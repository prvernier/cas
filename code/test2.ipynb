{
 "cells": [
  {
   "cell_type": "code",
   "execution_count": 1,
   "metadata": {},
   "outputs": [],
   "source": [
    "import psycopg2\n",
    "import pprint"
   ]
  },
  {
   "cell_type": "code",
   "execution_count": 17,
   "metadata": {},
   "outputs": [],
   "source": [
    "conn = psycopg2.connect(database=\"fri\", user=\"postgres\", password=\"postgres\")"
   ]
  },
  {
   "cell_type": "code",
   "execution_count": 18,
   "metadata": {},
   "outputs": [],
   "source": [
    "cursor = conn.cursor()  \n",
    "cursor.execute('SELECT species_cd_1, crown_closure, proj_age_1 FROM bc_0008.vri9 WHERE proj_age_1 > 400 limit 10')  \n",
    "rows = cursor.fetchall()  \n",
    "conn.close()"
   ]
  },
  {
   "cell_type": "code",
   "execution_count": 19,
   "metadata": {},
   "outputs": [
    {
     "name": "stdout",
     "output_type": "stream",
     "text": [
      "[('HW', 75, 421),\n",
      " ('H', 80, 421),\n",
      " ('H', 60, 421),\n",
      " ('H', 30, 471),\n",
      " ('H', 65, 421),\n",
      " ('CW', 70, 521),\n",
      " ('CW', 65, 421),\n",
      " ('HM', 15, 421),\n",
      " ('CW', 75, 521),\n",
      " ('YC', 40, 421)]\n"
     ]
    }
   ],
   "source": [
    "pprint.pprint(rows)"
   ]
  },
  {
   "cell_type": "code",
   "execution_count": 21,
   "metadata": {},
   "outputs": [
    {
     "name": "stdout",
     "output_type": "stream",
     "text": [
      "Species: HW Crown closure: 75 Projected age: 421\n",
      "Species: H Crown closure: 80 Projected age: 421\n",
      "Species: H Crown closure: 60 Projected age: 421\n",
      "Species: H Crown closure: 30 Projected age: 471\n",
      "Species: H Crown closure: 65 Projected age: 421\n",
      "Species: CW Crown closure: 70 Projected age: 521\n",
      "Species: CW Crown closure: 65 Projected age: 421\n",
      "Species: HM Crown closure: 15 Projected age: 421\n",
      "Species: CW Crown closure: 75 Projected age: 521\n",
      "Species: YC Crown closure: 40 Projected age: 421\n"
     ]
    }
   ],
   "source": [
    "for row in rows:  \n",
    "    print(\"Species:\", row[0], \"Crown closure:\", row[1], \"Projected age:\", row[2])"
   ]
  },
  {
   "cell_type": "code",
   "execution_count": null,
   "metadata": {},
   "outputs": [],
   "source": []
  }
 ],
 "metadata": {
  "kernelspec": {
   "display_name": "Python 3",
   "language": "python",
   "name": "python3"
  },
  "language_info": {
   "codemirror_mode": {
    "name": "ipython",
    "version": 3
   },
   "file_extension": ".py",
   "mimetype": "text/x-python",
   "name": "python",
   "nbconvert_exporter": "python",
   "pygments_lexer": "ipython3",
   "version": "3.7.0"
  }
 },
 "nbformat": 4,
 "nbformat_minor": 2
}
